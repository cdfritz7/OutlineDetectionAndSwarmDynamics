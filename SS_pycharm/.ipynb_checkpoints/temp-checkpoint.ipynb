{
 "cells": [
  {
   "cell_type": "code",
   "execution_count": 3,
   "metadata": {},
   "outputs": [],
   "source": [
    "import matplotlib.pyplot as plt\n",
    "img = plt.imread(\"C:/Users/straw/Dropbox/2019/Fall Coursework/OutlineDetectionAndSwarmDynamics/exploration/image_edge_detection/edges_man_brick.jpg\")\n",
    "\n"
   ]
  },
  {
   "cell_type": "code",
   "execution_count": 16,
   "metadata": {},
   "outputs": [
    {
     "name": "stdout",
     "output_type": "stream",
     "text": [
      "(500, 626, 3)\n",
      "[0 0 0]\n",
      "27904\n",
      "313000\n",
      "0.08915015974440894\n"
     ]
    }
   ],
   "source": [
    "import numpy as np\n",
    "\n",
    "print(img.shape)\n",
    "print(img[0][0])\n",
    "fillSum = 0\n",
    "totalSum = 0\n",
    "for row in img:\n",
    "    for pixel in row:\n",
    "        if not np.array_equal(pixel, np.array([0,0,0])):\n",
    "            #print(pixel)\n",
    "            fillSum+=1\n",
    "        totalSum += 1\n",
    "        \n",
    "print(fillSum)\n",
    "print(totalSum)\n",
    "print(fillSum/totalSum)"
   ]
  },
  {
   "cell_type": "code",
   "execution_count": null,
   "metadata": {},
   "outputs": [],
   "source": []
  }
 ],
 "metadata": {
  "kernelspec": {
   "display_name": "Python 3",
   "language": "python",
   "name": "python3"
  },
  "language_info": {
   "codemirror_mode": {
    "name": "ipython",
    "version": 3
   },
   "file_extension": ".py",
   "mimetype": "text/x-python",
   "name": "python",
   "nbconvert_exporter": "python",
   "pygments_lexer": "ipython3",
   "version": "3.7.1"
  }
 },
 "nbformat": 4,
 "nbformat_minor": 2
}
