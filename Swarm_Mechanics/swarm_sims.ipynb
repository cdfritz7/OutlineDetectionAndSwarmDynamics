{
 "cells": [
  {
   "cell_type": "code",
   "execution_count": 15,
   "metadata": {},
   "outputs": [
    {
     "name": "stdout",
     "output_type": "stream",
     "text": [
      "(-1, 0)\n",
      "(-2, 0)\n",
      "(-3, -1)\n",
      "(-4, 0)\n",
      "(-3, 1)\n",
      "(-4, 0)\n",
      "(-4, -1)\n",
      "(-3, -1)\n",
      "(-2, 0)\n",
      "(-1, 0)\n"
     ]
    }
   ],
   "source": [
    "import matplotlib\n",
    "import random\n",
    "\n",
    "def rand_move(x,y):\n",
    "    rand = random.randint(1,9)\n",
    "    mp = {1:(0,0), 2:(0,1), 3:(1,0), 4:(1,1), 5:(0,-1), 6:(-1,0), 7:(-1,-1), 8:(-1,1), 9:(1,-1)}\n",
    "    move_dir = mp[rand]\n",
    "    return (x+move_dir[0], y+move_dir[1])\n",
    "\n",
    "pos = (0,0)\n",
    "for i in range(10):\n",
    "    pos = rand_move(pos[0],pos[1])\n",
    "    print(pos)\n"
   ]
  },
  {
   "cell_type": "code",
   "execution_count": null,
   "metadata": {},
   "outputs": [],
   "source": []
  }
 ],
 "metadata": {
  "kernelspec": {
   "display_name": "Python 3",
   "language": "python",
   "name": "python3"
  },
  "language_info": {
   "codemirror_mode": {
    "name": "ipython",
    "version": 3
   },
   "file_extension": ".py",
   "mimetype": "text/x-python",
   "name": "python",
   "nbconvert_exporter": "python",
   "pygments_lexer": "ipython3",
   "version": "3.7.1"
  }
 },
 "nbformat": 4,
 "nbformat_minor": 2
}
